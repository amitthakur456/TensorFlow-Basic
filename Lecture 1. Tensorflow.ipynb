{
 "cells": [
  {
   "cell_type": "markdown",
   "id": "be775007-9ef0-406c-9ded-16df156d4a16",
   "metadata": {},
   "source": [
    "# Progeram Element in Tensorflow"
   ]
  },
  {
   "cell_type": "markdown",
   "id": "4cdb9ddd-46c6-4818-a538-f6accc584db0",
   "metadata": {},
   "source": [
    "## Constant"
   ]
  },
  {
   "cell_type": "code",
   "execution_count": 1,
   "id": "5c87a2cc-917d-4e51-8ec8-7e72cee708f2",
   "metadata": {},
   "outputs": [
    {
     "name": "stdout",
     "output_type": "stream",
     "text": [
      "tf.Tensor(2.0, shape=(), dtype=float32) tf.Tensor(3.0, shape=(), dtype=float32)\n"
     ]
    }
   ],
   "source": [
    "import tensorflow as tf\n",
    "a = tf.constant(2.0,tf.float32)\n",
    "b = tf.constant(3.0)\n",
    "print(a,b)"
   ]
  },
  {
   "cell_type": "code",
   "execution_count": 2,
   "id": "5ce0c8b3-42b8-4381-b08b-27d2677423af",
   "metadata": {},
   "outputs": [],
   "source": [
    "# Constant :- constant are parameters whose value does not change .To define a constant we use tf.constant() commannd"
   ]
  },
  {
   "cell_type": "markdown",
   "id": "1fb71c66-6d4a-4096-8242-dc697139c1d2",
   "metadata": {},
   "source": [
    "## Variable"
   ]
  },
  {
   "cell_type": "code",
   "execution_count": 3,
   "id": "c46b66b3-f630-4e81-885f-32b49561eda2",
   "metadata": {},
   "outputs": [],
   "source": [
    "# variable :- variable allows us to add new trainable parameter to graph. To define a variable we use (tf.Variable) commannd and initialize them before runnung the graph in a session."
   ]
  },
  {
   "cell_type": "code",
   "execution_count": 6,
   "id": "8a624c9f-f7ec-46fa-89bd-1d178405c40b",
   "metadata": {},
   "outputs": [
    {
     "name": "stdout",
     "output_type": "stream",
     "text": [
      "Defaulting to user installation because normal site-packages is not writeable\n",
      "Collecting placeholder\n",
      "  Downloading placeholder-1.5-cp38-abi3-win_amd64.whl (11 kB)\n",
      "Installing collected packages: placeholder\n",
      "Successfully installed placeholder-1.5\n"
     ]
    }
   ],
   "source": [
    "!pip install placeholder"
   ]
  },
  {
   "cell_type": "code",
   "execution_count": 9,
   "id": "4df875c3-2f05-48c6-8fbb-280069d5c5c3",
   "metadata": {},
   "outputs": [
    {
     "name": "stdout",
     "output_type": "stream",
     "text": [
      "<tf.Variable 'Variable:0' shape=(1, 3) dtype=float32, numpy=array([[1., 2., 3.]], dtype=float32)>\n"
     ]
    }
   ],
   "source": [
    "import tensorflow as tf\n",
    "\n",
    "# Using tf.Variable (preferred way in TF 2.x)\n",
    "x = tf.Variable(initial_value=[[1.0, 2.0, 3.0]], dtype=tf.float32)\n",
    "print(x)\n"
   ]
  },
  {
   "cell_type": "markdown",
   "id": "c1047e4b-4ddd-4ada-bd1b-431bab8e3f9f",
   "metadata": {},
   "source": [
    "## PlaceHolder"
   ]
  },
  {
   "cell_type": "code",
   "execution_count": 10,
   "id": "4526eaa6-8f47-43cb-b19d-3173943d1af0",
   "metadata": {},
   "outputs": [],
   "source": [
    "#Place Holder :- placeholder allow us to feed data to a tensorflow model from outside a models.\n",
    "#It permits a value to be assigned later.To define  placeholder we use (tf.placeholder()) command."
   ]
  },
  {
   "cell_type": "code",
   "execution_count": 13,
   "id": "2d3b2c6e-d85d-4eef-ba65-94d667a0e88b",
   "metadata": {},
   "outputs": [
    {
     "name": "stdout",
     "output_type": "stream",
     "text": [
      "WARNING:tensorflow:From C:\\Users\\asus\\AppData\\Local\\Temp\\ipykernel_11500\\906609283.py:4: The name tf.disable_eager_execution is deprecated. Please use tf.compat.v1.disable_eager_execution instead.\n",
      "\n",
      "6.0\n"
     ]
    }
   ],
   "source": [
    "import tensorflow as tf\n",
    "\n",
    "# Disable eager execution (needed for placeholders)\n",
    "tf.compat.v1.disable_eager_execution()\n",
    "\n",
    "# Define placeholder\n",
    "a = tf.compat.v1.placeholder(dtype=tf.float32)\n",
    "\n",
    "# Define operation\n",
    "b = a * 2\n",
    "\n",
    "# Run session\n",
    "with tf.compat.v1.Session() as sess:\n",
    "    result = sess.run(b, feed_dict={a: 3.0})\n",
    "\n",
    "print(result)\n"
   ]
  },
  {
   "cell_type": "code",
   "execution_count": null,
   "id": "15d4e64b-5c16-4b52-a6df-4e28a5a2da17",
   "metadata": {},
   "outputs": [],
   "source": []
  }
 ],
 "metadata": {
  "kernelspec": {
   "display_name": "Python 3 (ipykernel)",
   "language": "python",
   "name": "python3"
  },
  "language_info": {
   "codemirror_mode": {
    "name": "ipython",
    "version": 3
   },
   "file_extension": ".py",
   "mimetype": "text/x-python",
   "name": "python",
   "nbconvert_exporter": "python",
   "pygments_lexer": "ipython3",
   "version": "3.10.1"
  }
 },
 "nbformat": 4,
 "nbformat_minor": 5
}
