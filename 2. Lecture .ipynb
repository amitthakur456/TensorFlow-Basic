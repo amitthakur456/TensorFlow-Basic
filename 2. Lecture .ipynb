{
 "cells": [
  {
   "cell_type": "markdown",
   "id": "b7ca592c-46f3-46db-975b-0bd24fead4ee",
   "metadata": {},
   "source": [
    "# Program Element in Tensorflow"
   ]
  },
  {
   "cell_type": "markdown",
   "id": "4fdaa95d-840a-43eb-8438-3dbc8dcb18b9",
   "metadata": {},
   "source": [
    "## Session:- "
   ]
  },
  {
   "cell_type": "code",
   "execution_count": 1,
   "id": "74e695ff-6127-495e-8be6-344c063dd319",
   "metadata": {},
   "outputs": [
    {
     "name": "stdout",
     "output_type": "stream",
     "text": [
      "15.0\n"
     ]
    }
   ],
   "source": [
    "# A session is run to evaluate the nodes. This is called as the Tensorflow runtime\n",
    "import tensorflow as tf\n",
    "\n",
    "# Define constants\n",
    "a = tf.constant(5.0)\n",
    "b = tf.constant(3.0)\n",
    "\n",
    "# Compute multiplication\n",
    "c = a * b\n",
    "\n",
    "# Directly print the result (no session required in TF 2.x)\n",
    "print(c.numpy())\n"
   ]
  },
  {
   "cell_type": "code",
   "execution_count": 2,
   "id": "8463135b-6975-4bd9-abf3-72bc12cc19a0",
   "metadata": {},
   "outputs": [],
   "source": [
    "import tensorflow as tf"
   ]
  },
  {
   "cell_type": "code",
   "execution_count": 4,
   "id": "a91cc89b-14c7-486d-953b-0e2c09568019",
   "metadata": {},
   "outputs": [],
   "source": [
    "# this is a variable\n",
    "zero = tf.Variable(0)"
   ]
  },
  {
   "cell_type": "code",
   "execution_count": 5,
   "id": "cb34808e-97c1-4be9-ab06-15ef3d188002",
   "metadata": {},
   "outputs": [],
   "source": [
    "# This is a constant\n",
    "one = tf.constant(1)"
   ]
  },
  {
   "cell_type": "code",
   "execution_count": 8,
   "id": "4097a4fa-dc17-4fab-9156-579a4079b0de",
   "metadata": {},
   "outputs": [
    {
     "name": "stdout",
     "output_type": "stream",
     "text": [
      "0.0\n"
     ]
    }
   ],
   "source": [
    "import tensorflow as tf\n",
    "\n",
    "# Initialize a variable for mutable values\n",
    "new_value = tf.Variable(0.0)\n",
    "zero = tf.constant(0.0)\n",
    "\n",
    "# Update the value\n",
    "new_value.assign_add(zero)\n",
    "\n",
    "print(new_value.numpy())\n"
   ]
  },
  {
   "cell_type": "code",
   "execution_count": 9,
   "id": "f8821304-02e5-4f9e-967e-0b542e9126ec",
   "metadata": {},
   "outputs": [],
   "source": [
    "new_value = tf.add(zero,new_value)"
   ]
  },
  {
   "cell_type": "code",
   "execution_count": 11,
   "id": "ea86e1e4-cd5d-4a75-8be0-15d032a7bf43",
   "metadata": {},
   "outputs": [],
   "source": [
    "#update = tf.assign(one,new_value)"
   ]
  },
  {
   "cell_type": "code",
   "execution_count": 14,
   "id": "b13b9481-b42b-467d-ac92-c899e360852d",
   "metadata": {},
   "outputs": [
    {
     "name": "stdout",
     "output_type": "stream",
     "text": [
      "15.0\n"
     ]
    }
   ],
   "source": [
    "import tensorflow as tf\n",
    "\n",
    "# Define constants\n",
    "a = tf.constant(5.0)\n",
    "b = tf.constant(3.0)\n",
    "\n",
    "# Directly evaluate without a session\n",
    "result = a * b\n",
    "print(result.numpy())  # Outputs 15.0\n"
   ]
  },
  {
   "cell_type": "code",
   "execution_count": 17,
   "id": "89ba79d0-77bd-48fb-8fdc-3bde1320fbac",
   "metadata": {},
   "outputs": [
    {
     "name": "stdout",
     "output_type": "stream",
     "text": [
      "1\n",
      "2\n",
      "3\n",
      "4\n",
      "5\n"
     ]
    }
   ],
   "source": [
    "import tensorflow as tf\n",
    "\n",
    "# Define a variable\n",
    "zero = tf.Variable(0)\n",
    "\n",
    "# Update logic\n",
    "for _ in range(5):\n",
    "    zero.assign_add(1)  # Equivalent to incrementing zero\n",
    "    print(zero.numpy())  # Directly access the value\n"
   ]
  },
  {
   "cell_type": "code",
   "execution_count": 18,
   "id": "e77e7598-1db4-469b-bbca-d05617881ebf",
   "metadata": {},
   "outputs": [],
   "source": [
    "# String operation \n",
    "hello = tf.constant('hello')"
   ]
  },
  {
   "cell_type": "code",
   "execution_count": 19,
   "id": "7ad2c6ed-6f45-4908-9cf3-64cd0de72480",
   "metadata": {},
   "outputs": [
    {
     "name": "stdout",
     "output_type": "stream",
     "text": [
      "tf.Tensor(b'hello', shape=(), dtype=string)\n"
     ]
    }
   ],
   "source": [
    "print(hello)"
   ]
  },
  {
   "cell_type": "code",
   "execution_count": 20,
   "id": "6c14252d-5d90-4be3-8a47-2c625b56acf1",
   "metadata": {},
   "outputs": [
    {
     "name": "stdout",
     "output_type": "stream",
     "text": [
      "1\n",
      "2\n",
      "3\n",
      "4\n",
      "5\n",
      "6\n",
      "7\n",
      "8\n",
      "9\n",
      "10\n"
     ]
    }
   ],
   "source": [
    "import tensorflow as tf\n",
    "# Define the variable\n",
    "zero = tf.Variable(0)\n",
    "# update logic\n",
    "for _ in range(10):\n",
    "    zero.assign_add(1)\n",
    "    print(zero.numpy())"
   ]
  },
  {
   "cell_type": "code",
   "execution_count": 21,
   "id": "0870c8cb-2a71-4f8b-8d84-34d80acffcc6",
   "metadata": {},
   "outputs": [
    {
     "name": "stdout",
     "output_type": "stream",
     "text": [
      "1\n",
      "2\n",
      "3\n",
      "4\n",
      "5\n",
      "6\n",
      "7\n",
      "8\n",
      "9\n",
      "10\n",
      "11\n",
      "12\n",
      "13\n",
      "14\n",
      "15\n",
      "16\n",
      "17\n",
      "18\n",
      "19\n",
      "20\n"
     ]
    }
   ],
   "source": [
    "import tensorflow as tf\n",
    "# Define the variable\n",
    "zero = tf.Variable(0)\n",
    "# update logic\n",
    "for _ in range(20):\n",
    "    zero.assign_add(1)\n",
    "    print(zero.numpy())"
   ]
  },
  {
   "cell_type": "code",
   "execution_count": 22,
   "id": "75025b55-0469-4c50-9510-09b9bcb19bd8",
   "metadata": {},
   "outputs": [
    {
     "name": "stdout",
     "output_type": "stream",
     "text": [
      "<bound method BaseResourceVariable.numpy of <tf.Variable 'Variable:0' shape=() dtype=int32, numpy=1>>\n",
      "<bound method BaseResourceVariable.numpy of <tf.Variable 'Variable:0' shape=() dtype=int32, numpy=2>>\n",
      "<bound method BaseResourceVariable.numpy of <tf.Variable 'Variable:0' shape=() dtype=int32, numpy=3>>\n",
      "<bound method BaseResourceVariable.numpy of <tf.Variable 'Variable:0' shape=() dtype=int32, numpy=4>>\n",
      "<bound method BaseResourceVariable.numpy of <tf.Variable 'Variable:0' shape=() dtype=int32, numpy=5>>\n",
      "<bound method BaseResourceVariable.numpy of <tf.Variable 'Variable:0' shape=() dtype=int32, numpy=6>>\n",
      "<bound method BaseResourceVariable.numpy of <tf.Variable 'Variable:0' shape=() dtype=int32, numpy=7>>\n",
      "<bound method BaseResourceVariable.numpy of <tf.Variable 'Variable:0' shape=() dtype=int32, numpy=8>>\n",
      "<bound method BaseResourceVariable.numpy of <tf.Variable 'Variable:0' shape=() dtype=int32, numpy=9>>\n",
      "<bound method BaseResourceVariable.numpy of <tf.Variable 'Variable:0' shape=() dtype=int32, numpy=10>>\n"
     ]
    }
   ],
   "source": [
    "import tensorflow as tf\n",
    "# Define the variable\n",
    "zero = tf.Variable(0)\n",
    "# update the logic\n",
    "for _ in range(10):\n",
    "    zero.assign_add(1)\n",
    "    print(zero.numpy)"
   ]
  },
  {
   "cell_type": "code",
   "execution_count": null,
   "id": "42a32c39-9abf-416a-9958-613859a0c4e4",
   "metadata": {},
   "outputs": [],
   "source": [
    "import tensor "
   ]
  }
 ],
 "metadata": {
  "kernelspec": {
   "display_name": "Python 3 (ipykernel)",
   "language": "python",
   "name": "python3"
  },
  "language_info": {
   "codemirror_mode": {
    "name": "ipython",
    "version": 3
   },
   "file_extension": ".py",
   "mimetype": "text/x-python",
   "name": "python",
   "nbconvert_exporter": "python",
   "pygments_lexer": "ipython3",
   "version": "3.10.1"
  }
 },
 "nbformat": 4,
 "nbformat_minor": 5
}
